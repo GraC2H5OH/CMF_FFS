{
 "cells": [
  {
   "cell_type": "markdown",
   "id": "25ae2798",
   "metadata": {},
   "source": [
    "# Baseline"
   ]
  },
  {
   "cell_type": "code",
   "execution_count": 57,
   "id": "fa053471",
   "metadata": {},
   "outputs": [],
   "source": [
    "import pandas as pd\n",
    "import numpy as np\n",
    "from os import listdir\n",
    "from sklearn.metrics import mean_absolute_percentage_error, mean_squared_error, r2_score\n",
    "from sklearn.linear_model import LinearRegression\n",
    "from sklearn.model_selection import train_test_split\n",
    "from metrics_calculation import metrics"
   ]
  },
  {
   "cell_type": "code",
   "execution_count": 3,
   "id": "a2cf37b8",
   "metadata": {},
   "outputs": [],
   "source": [
    "data_dir = '../CMF_FFS/data/processed/'"
   ]
  },
  {
   "cell_type": "markdown",
   "id": "f33ea359",
   "metadata": {},
   "source": [
    "## Let's create models for each company and check metrics"
   ]
  },
  {
   "cell_type": "code",
   "execution_count": 44,
   "id": "4e774e03",
   "metadata": {
    "scrolled": true
   },
   "outputs": [
    {
     "name": "stdout",
     "output_type": "stream",
     "text": [
      "Mean MAPE = 0.5946131663054282\n",
      "Mean WAPE = 0.5742766521062759\n",
      "Mean MSE = 702373.1267134682\n",
      "Mean R2_adj 11.576518724536358\n"
     ]
    }
   ],
   "source": [
    "y_list = []\n",
    "pred_list = []\n",
    "features_list = []\n",
    "for i in listdir(data_dir):\n",
    "    data = pd.read_csv(data_dir + i)\n",
    "    data['Equity Charge'] = [i for i in range(len(data['Equity Charge']))]\n",
    "    y = data['Revenue']\n",
    "    data.drop(columns=['Revenue'], inplace=True)\n",
    "    x_train, x_test, y_train, y_test = train_test_split(data, y, train_size=38, shuffle=False)\n",
    "    \n",
    "    model = LinearRegression(n_jobs=-1)\n",
    "\n",
    "    model.fit(x_train, y_train)\n",
    "    predictions = model.predict(x_test)\n",
    "    y_list.append(y_test)\n",
    "    pred_list.append(predictions)\n",
    "    features_list.append(len(x_test.columns))\n",
    "metrics(y_list, pred_list, features_list, one_model=False)"
   ]
  },
  {
   "cell_type": "markdown",
   "id": "168a9aa2",
   "metadata": {},
   "source": [
    "## What if we want to make 1 model for each companies"
   ]
  },
  {
   "cell_type": "code",
   "execution_count": 58,
   "id": "54b78251",
   "metadata": {},
   "outputs": [
    {
     "name": "stdout",
     "output_type": "stream",
     "text": [
      "MAPE = 26003508.372781176\n",
      "WAPE = 0    3.240590e+06\n",
      "dtype: float64\n",
      "MSE = 4.602266969731907e+20\n",
      "R2_adj -479824272578422.5\n"
     ]
    },
    {
     "ename": "UnboundLocalError",
     "evalue": "local variable 'mape' referenced before assignment",
     "output_type": "error",
     "traceback": [
      "\u001b[1;31m---------------------------------------------------------------------------\u001b[0m",
      "\u001b[1;31mUnboundLocalError\u001b[0m                         Traceback (most recent call last)",
      "\u001b[1;32m~\\AppData\\Local\\Temp/ipykernel_6124/3241040956.py\u001b[0m in \u001b[0;36m<module>\u001b[1;34m\u001b[0m\n\u001b[0;32m     16\u001b[0m \u001b[0mmodel\u001b[0m\u001b[1;33m.\u001b[0m\u001b[0mfit\u001b[0m\u001b[1;33m(\u001b[0m\u001b[0mx_train_concat\u001b[0m\u001b[1;33m,\u001b[0m \u001b[0my_train_concat\u001b[0m\u001b[1;33m)\u001b[0m\u001b[1;33m\u001b[0m\u001b[1;33m\u001b[0m\u001b[0m\n\u001b[0;32m     17\u001b[0m \u001b[0mpred\u001b[0m \u001b[1;33m=\u001b[0m \u001b[0mmodel\u001b[0m\u001b[1;33m.\u001b[0m\u001b[0mpredict\u001b[0m\u001b[1;33m(\u001b[0m\u001b[0mx_test_concat\u001b[0m\u001b[1;33m)\u001b[0m\u001b[1;33m\u001b[0m\u001b[1;33m\u001b[0m\u001b[0m\n\u001b[1;32m---> 18\u001b[1;33m \u001b[0mmetrics\u001b[0m\u001b[1;33m(\u001b[0m\u001b[0my_test_concat\u001b[0m\u001b[1;33m,\u001b[0m \u001b[0mpred\u001b[0m\u001b[1;33m,\u001b[0m \u001b[0mlen\u001b[0m\u001b[1;33m(\u001b[0m\u001b[0mx_test_concat\u001b[0m\u001b[1;33m.\u001b[0m\u001b[0mcolumns\u001b[0m\u001b[1;33m)\u001b[0m\u001b[1;33m)\u001b[0m\u001b[1;33m\u001b[0m\u001b[1;33m\u001b[0m\u001b[0m\n\u001b[0m",
      "\u001b[1;32mE:\\CMF\\CMF_FFS_non_Git_notebooks\\metrics_calculation.py\u001b[0m in \u001b[0;36mmetrics\u001b[1;34m(y, pred, p, one_model)\u001b[0m\n\u001b[0;32m     26\u001b[0m             \u001b[0mwape_multi\u001b[0m \u001b[1;33m+=\u001b[0m \u001b[0mwape\u001b[0m\u001b[1;33m(\u001b[0m\u001b[0mi\u001b[0m\u001b[1;33m,\u001b[0m \u001b[0mj\u001b[0m\u001b[1;33m)\u001b[0m\u001b[1;33m\u001b[0m\u001b[1;33m\u001b[0m\u001b[0m\n\u001b[0;32m     27\u001b[0m             \u001b[0mmse\u001b[0m \u001b[1;33m+=\u001b[0m \u001b[0mmean_squared_error\u001b[0m\u001b[1;33m(\u001b[0m\u001b[0mi\u001b[0m\u001b[1;33m,\u001b[0m \u001b[0mj\u001b[0m\u001b[1;33m)\u001b[0m\u001b[1;33m\u001b[0m\u001b[1;33m\u001b[0m\u001b[0m\n\u001b[1;32m---> 28\u001b[1;33m             \u001b[0mr2_adj_multi\u001b[0m \u001b[1;33m+=\u001b[0m \u001b[0mr2_adj\u001b[0m\u001b[1;33m(\u001b[0m\u001b[0mi\u001b[0m\u001b[1;33m,\u001b[0m \u001b[0mj\u001b[0m\u001b[1;33m,\u001b[0m \u001b[0mk\u001b[0m\u001b[1;33m)\u001b[0m\u001b[1;33m\u001b[0m\u001b[1;33m\u001b[0m\u001b[0m\n\u001b[0m\u001b[0;32m     29\u001b[0m     \u001b[0mprint\u001b[0m\u001b[1;33m(\u001b[0m\u001b[1;34m'Mean MAPE ='\u001b[0m\u001b[1;33m,\u001b[0m \u001b[0mmape\u001b[0m \u001b[1;33m/\u001b[0m \u001b[0mn\u001b[0m\u001b[1;33m)\u001b[0m\u001b[1;33m\u001b[0m\u001b[1;33m\u001b[0m\u001b[0m\n\u001b[0;32m     30\u001b[0m     \u001b[0mprint\u001b[0m\u001b[1;33m(\u001b[0m\u001b[1;34m'Mean WAPE ='\u001b[0m\u001b[1;33m,\u001b[0m \u001b[0mwape_multi\u001b[0m \u001b[1;33m/\u001b[0m \u001b[0mn\u001b[0m\u001b[1;33m)\u001b[0m\u001b[1;33m\u001b[0m\u001b[1;33m\u001b[0m\u001b[0m\n",
      "\u001b[1;31mUnboundLocalError\u001b[0m: local variable 'mape' referenced before assignment"
     ]
    }
   ],
   "source": [
    "x_train_concat, x_test_concat, y_train_concat, y_test_concat = [pd.DataFrame()] * 4\n",
    "\n",
    "\n",
    "for i in listdir(data_dir):\n",
    "    data = pd.read_csv(data_dir + i)\n",
    "    data['Equity Charge'] = [i for i in range(len(data['Equity Charge']))]\n",
    "    y = data['Revenue']\n",
    "    data.drop(columns=['Revenue'], inplace=True)\n",
    "    x_train, x_test, y_train, y_test = train_test_split(data, y, train_size=38, shuffle=False)\n",
    "    x_train_concat = pd.concat([x_train_concat, x_train])\n",
    "    x_test_concat = pd.concat([x_test_concat, x_test])\n",
    "    y_train_concat = pd.concat([y_train_concat, y_train])\n",
    "    y_test_concat = pd.concat([y_test_concat, y_test])\n",
    "\n",
    "model = LinearRegression(n_jobs=-1)\n",
    "model.fit(x_train_concat, y_train_concat)\n",
    "pred = model.predict(x_test_concat)\n",
    "metrics(y_test_concat, pred, len(x_test_concat.columns))"
   ]
  },
  {
   "cell_type": "code",
   "execution_count": null,
   "id": "c3dfb33f",
   "metadata": {},
   "outputs": [],
   "source": []
  }
 ],
 "metadata": {
  "kernelspec": {
   "display_name": "Python 3 (ipykernel)",
   "language": "python",
   "name": "python3"
  },
  "language_info": {
   "codemirror_mode": {
    "name": "ipython",
    "version": 3
   },
   "file_extension": ".py",
   "mimetype": "text/x-python",
   "name": "python",
   "nbconvert_exporter": "python",
   "pygments_lexer": "ipython3",
   "version": "3.9.7"
  }
 },
 "nbformat": 4,
 "nbformat_minor": 5
}
