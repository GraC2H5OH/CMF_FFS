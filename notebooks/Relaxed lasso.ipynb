{
 "cells": [
  {
   "cell_type": "code",
   "execution_count": 21,
   "id": "94cd0303",
   "metadata": {},
   "outputs": [],
   "source": [
    "import sys\n",
    "sys.path.append(r\"E:\\CMF\\CMF_FFS/\")\n",
    "\n",
    "from src.metrics_calculation import metrics\n",
    "from src.cross_val import timeseriesCVscore\n",
    "from src.preprocess import preprocessing\n",
    "\n",
    "import numpy as np\n",
    "import pandas as pd\n",
    "from os import listdir\n",
    "from sklearn.linear_model import Lasso\n",
    "from sklearn.model_selection import TimeSeriesSplit, train_test_split"
   ]
  },
  {
   "cell_type": "code",
   "execution_count": 22,
   "id": "8cd9c821",
   "metadata": {},
   "outputs": [],
   "source": [
    "import warnings\n",
    "warnings.filterwarnings('ignore')"
   ]
  },
  {
   "cell_type": "code",
   "execution_count": 23,
   "id": "c67c370f",
   "metadata": {},
   "outputs": [],
   "source": [
    "data_dir = '../data/processed/'"
   ]
  },
  {
   "cell_type": "markdown",
   "id": "39e3dd92",
   "metadata": {},
   "source": [
    "## Searching for feature importance"
   ]
  },
  {
   "cell_type": "code",
   "execution_count": 24,
   "id": "555c5a54",
   "metadata": {},
   "outputs": [
    {
     "name": "stdout",
     "output_type": "stream",
     "text": [
      "Mean MAPE = 0.48520016269903776\n",
      "Mean WAPE = 0.4831421455045152\n",
      "Mean MSE = 9631563.724151878\n"
     ]
    }
   ],
   "source": [
    "y_list = []\n",
    "pred_list = []\n",
    "coef_list = []\n",
    "for i in listdir(data_dir):\n",
    "    data = pd.read_csv(data_dir + i)\n",
    "    data['Equity Charge'] = [i for i in range(len(data['Equity Charge']))]\n",
    "    y = data['Revenue']\n",
    "    data.drop(columns=['Revenue'], inplace=True)\n",
    "    x_train, x_test, y_train, y_test = train_test_split(data, y, train_size=38, shuffle=False)\n",
    "    \n",
    "    model = Lasso()\n",
    "\n",
    "    model.fit(x_train, y_train)\n",
    "    coef_list.append(model.coef_)\n",
    "    predictions = model.predict(x_test)\n",
    "    y_list.append(y_test)\n",
    "    pred_list.append(predictions)\n",
    "    \n",
    "m1 = metrics(y_list, pred_list, one_model=False)\n",
    "print('Mean MAPE =', m1[0])\n",
    "print('Mean WAPE =', m1[1])\n",
    "print('Mean MSE =', m1[2])"
   ]
  },
  {
   "cell_type": "markdown",
   "id": "9002b3b5",
   "metadata": {},
   "source": [
    "## Getting top 10 features"
   ]
  },
  {
   "cell_type": "code",
   "execution_count": 25,
   "id": "9923b402",
   "metadata": {},
   "outputs": [],
   "source": [
    "features = dict.fromkeys(range(73),0)\n",
    "for i in coef_list:\n",
    "    for j in np.where(i>0)[0]:\n",
    "        features[j] += 1"
   ]
  },
  {
   "cell_type": "code",
   "execution_count": 26,
   "id": "978ba59e",
   "metadata": {},
   "outputs": [],
   "source": [
    "feature_importance = {k: v for k, v in sorted(features.items(), key=lambda item: item[1])}"
   ]
  },
  {
   "cell_type": "code",
   "execution_count": 27,
   "id": "19a30d4a",
   "metadata": {},
   "outputs": [],
   "source": [
    "ind = list(feature_importance.keys())[-10:]"
   ]
  },
  {
   "cell_type": "markdown",
   "id": "55a7a934",
   "metadata": {},
   "source": [
    "## Fitting with top 10 features"
   ]
  },
  {
   "cell_type": "code",
   "execution_count": 18,
   "id": "5c0a58bd",
   "metadata": {
    "scrolled": true
   },
   "outputs": [
    {
     "name": "stdout",
     "output_type": "stream",
     "text": [
      "Mean MAPE = 0.1977819346298819\n",
      "Mean WAPE = 0.19342538901126866\n",
      "Mean MSE = 68719.20589049453\n"
     ]
    }
   ],
   "source": [
    "y_list = []\n",
    "pred_list = []\n",
    "for i in listdir(data_dir):\n",
    "    data = pd.read_csv(data_dir + i)\n",
    "    data['Equity Charge'] = [i for i in range(len(data['Equity Charge']))]\n",
    "    y = data['Revenue']\n",
    "    data.drop(columns=['Revenue'], inplace=True)\n",
    "    x_train, x_test, y_train, y_test = train_test_split(data, y, train_size=38, shuffle=False)\n",
    "    \n",
    "    x_train = x_train.iloc[:, ind]\n",
    "    x_test = x_test.iloc[:, ind]\n",
    "    \n",
    "    model = Lasso()\n",
    "\n",
    "    model.fit(x_train, y_train)\n",
    "    predictions = model.predict(x_test)\n",
    "    y_list.append(y_test)\n",
    "    pred_list.append(predictions)\n",
    "\n",
    "m2 = metrics(y_list, pred_list, one_model=False)\n",
    "print('Mean MAPE =', m2[0])\n",
    "print('Mean WAPE =', m2[1])\n",
    "print('Mean MSE =', m2[2])"
   ]
  },
  {
   "cell_type": "markdown",
   "id": "4c6b7c15",
   "metadata": {},
   "source": [
    "## Fitting with top 10 features with cross validation"
   ]
  },
  {
   "cell_type": "code",
   "execution_count": 19,
   "id": "404a0980",
   "metadata": {},
   "outputs": [],
   "source": [
    "# Appending target and data\n",
    "ind.append(3)\n",
    "ind.append(19)"
   ]
  },
  {
   "cell_type": "code",
   "execution_count": 20,
   "id": "429f8a0c",
   "metadata": {},
   "outputs": [
    {
     "name": "stdout",
     "output_type": "stream",
     "text": [
      "Mean MAPE = 2308.8127816471942\n",
      "Mean WAPE = 2131.3417438042975\n",
      "Mean MSE = 1923885438186651.0\n"
     ]
    }
   ],
   "source": [
    "metr = np.array([])\n",
    "names = []\n",
    "\n",
    "for i in listdir(data_dir):\n",
    "    data = pd.read_csv(data_dir + i)\n",
    "    data = data.iloc[:, ind]\n",
    "    mape, wape, mse = timeseriesCVscore(data, Lasso())\n",
    "    metr = np.append(metr, [[mape], [wape], [mse]])\n",
    "    names.append(i[:-4])\n",
    "print('Mean MAPE =', metr[::3].sum() / len(metr[::3]) )\n",
    "print('Mean WAPE =', metr[1::3].sum() / len(metr[1::3]) )\n",
    "print('Mean MSE =', metr[2::3].sum() / len(metr[2::3]) )\n"
   ]
  },
  {
   "cell_type": "code",
   "execution_count": null,
   "id": "c4660c99",
   "metadata": {},
   "outputs": [],
   "source": []
  }
 ],
 "metadata": {
  "kernelspec": {
   "display_name": "Python 3 (ipykernel)",
   "language": "python",
   "name": "python3"
  },
  "language_info": {
   "codemirror_mode": {
    "name": "ipython",
    "version": 3
   },
   "file_extension": ".py",
   "mimetype": "text/x-python",
   "name": "python",
   "nbconvert_exporter": "python",
   "pygments_lexer": "ipython3",
   "version": "3.9.7"
  }
 },
 "nbformat": 4,
 "nbformat_minor": 5
}
