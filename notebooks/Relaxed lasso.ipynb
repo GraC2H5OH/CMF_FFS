{
 "cells": [
  {
   "cell_type": "code",
   "execution_count": 2,
   "id": "94cd0303",
   "metadata": {},
   "outputs": [],
   "source": [
    "import numpy as np\n",
    "import pandas as pd\n",
    "from os import listdir\n",
    "from sklearn.linear_model import Lasso\n",
    "from sklearn.model_selection import TimeSeriesSplit, train_test_split\n",
    "from metrics_calculation import metrics"
   ]
  },
  {
   "cell_type": "code",
   "execution_count": 3,
   "id": "8cd9c821",
   "metadata": {},
   "outputs": [],
   "source": [
    "import warnings\n",
    "warnings.filterwarnings('ignore')"
   ]
  },
  {
   "cell_type": "code",
   "execution_count": 4,
   "id": "c67c370f",
   "metadata": {},
   "outputs": [],
   "source": [
    "data_dir = '../CMF_FFS/data/processed/'"
   ]
  },
  {
   "cell_type": "markdown",
   "id": "39e3dd92",
   "metadata": {},
   "source": [
    "## Searching for feature importance"
   ]
  },
  {
   "cell_type": "code",
   "execution_count": 26,
   "id": "555c5a54",
   "metadata": {},
   "outputs": [
    {
     "name": "stdout",
     "output_type": "stream",
     "text": [
      "Mean MAPE = 0.48520016269903776\n",
      "Mean WAPE = 0.4831421455045152\n",
      "Mean MSE = 9631563.724151878\n",
      "Mean R2_adj 6.644024450330613\n"
     ]
    }
   ],
   "source": [
    "y_list = []\n",
    "pred_list = []\n",
    "features_list = []\n",
    "coef_list = []\n",
    "for i in listdir(data_dir):\n",
    "    data = pd.read_csv(data_dir + i)\n",
    "    data['Equity Charge'] = [i for i in range(len(data['Equity Charge']))]\n",
    "    y = data['Revenue']\n",
    "    data.drop(columns=['Revenue'], inplace=True)\n",
    "    x_train, x_test, y_train, y_test = train_test_split(data, y, train_size=38, shuffle=False)\n",
    "    \n",
    "    model = Lasso()\n",
    "\n",
    "    model.fit(x_train, y_train)\n",
    "    coef_list.append(model.coef_)\n",
    "    predictions = model.predict(x_test)\n",
    "    y_list.append(y_test)\n",
    "    pred_list.append(predictions)\n",
    "    features_list.append(len(x_test.columns))\n",
    "metrics(y_list, pred_list, features_list, one_model=False)"
   ]
  },
  {
   "cell_type": "markdown",
   "id": "9002b3b5",
   "metadata": {},
   "source": [
    "## Getting top 10 features"
   ]
  },
  {
   "cell_type": "code",
   "execution_count": 46,
   "id": "9923b402",
   "metadata": {},
   "outputs": [],
   "source": [
    "features = dict.fromkeys(range(73),0)\n",
    "for i in coef_list:\n",
    "    for j in np.where(i>0)[0]:\n",
    "        features[j] += 1"
   ]
  },
  {
   "cell_type": "code",
   "execution_count": 51,
   "id": "978ba59e",
   "metadata": {},
   "outputs": [],
   "source": [
    "feature_importance = {k: v for k, v in sorted(features.items(), key=lambda item: item[1])}"
   ]
  },
  {
   "cell_type": "code",
   "execution_count": 94,
   "id": "19a30d4a",
   "metadata": {},
   "outputs": [],
   "source": [
    "ind = list(feature_importance.keys())[-10:]"
   ]
  },
  {
   "cell_type": "markdown",
   "id": "55a7a934",
   "metadata": {},
   "source": [
    "## Fitting with top 10 features"
   ]
  },
  {
   "cell_type": "code",
   "execution_count": 96,
   "id": "5c0a58bd",
   "metadata": {
    "scrolled": true
   },
   "outputs": [
    {
     "name": "stdout",
     "output_type": "stream",
     "text": [
      "Mean MAPE = 0.1977819346298819\n",
      "Mean WAPE = 0.19342538901126866\n",
      "Mean MSE = 68719.20589049453\n",
      "Mean R2_adj 2.351410209428366\n"
     ]
    }
   ],
   "source": [
    "y_list = []\n",
    "pred_list = []\n",
    "features_list = []\n",
    "for i in listdir(data_dir):\n",
    "    data = pd.read_csv(data_dir + i)\n",
    "    data['Equity Charge'] = [i for i in range(len(data['Equity Charge']))]\n",
    "    y = data['Revenue']\n",
    "    data.drop(columns=['Revenue'], inplace=True)\n",
    "    x_train, x_test, y_train, y_test = train_test_split(data, y, train_size=38, shuffle=False)\n",
    "    \n",
    "    x_train = x_train.iloc[:, ind]\n",
    "    x_test = x_test.iloc[:, ind]\n",
    "    \n",
    "    model = Lasso()\n",
    "\n",
    "    model.fit(x_train, y_train)\n",
    "    predictions = model.predict(x_test)\n",
    "    y_list.append(y_test)\n",
    "    pred_list.append(predictions)\n",
    "    features_list.append(len(x_test.columns))\n",
    "metrics(y_list, pred_list, features_list, one_model=False)"
   ]
  }
 ],
 "metadata": {
  "kernelspec": {
   "display_name": "Python 3 (ipykernel)",
   "language": "python",
   "name": "python3"
  },
  "language_info": {
   "codemirror_mode": {
    "name": "ipython",
    "version": 3
   },
   "file_extension": ".py",
   "mimetype": "text/x-python",
   "name": "python",
   "nbconvert_exporter": "python",
   "pygments_lexer": "ipython3",
   "version": "3.9.7"
  }
 },
 "nbformat": 4,
 "nbformat_minor": 5
}
